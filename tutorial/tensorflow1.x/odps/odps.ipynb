{
 "cells": [
  {
   "cell_type": "markdown",
   "metadata": {},
   "source": [
    "# 访问MaxCompute的例子\n",
    "\n",
    "MaxCompute原名ODPS，所以为了向前兼容，所以MaxCompute的python的包叫做odps（pyodps），这个例子只是简单example，详细的odps的python sdk的文档请参见https://pyodps.readthedocs.io/zh_CN/latest/index.html\n",
    "\n",
    "首先我们import `odps` "
   ]
  },
  {
   "cell_type": "code",
   "execution_count": null,
   "metadata": {},
   "outputs": [],
   "source": [
    "from odps import ODPS\n",
    "from odps.df import DataFrame"
   ]
  },
  {
   "cell_type": "markdown",
   "metadata": {},
   "source": [
    "然后提供endpoint和AK进行连接"
   ]
  },
  {
   "cell_type": "code",
   "execution_count": 92,
   "metadata": {},
   "outputs": [],
   "source": [
    "access_id = '<your access id>'\n",
    "access_key = '<your access key>'\n",
    "project = '<your project>'\n",
    "endpoint = '<odps endpoint>'\n",
    "o = ODPS(access_id, access_key, project, endpoint)"
   ]
  },
  {
   "cell_type": "markdown",
   "metadata": {},
   "source": [
    "我们可以通过`list_tables` 来查看项目中有多少表以m_task开头"
   ]
  },
  {
   "cell_type": "code",
   "execution_count": 93,
   "metadata": {},
   "outputs": [
    {
     "name": "stdout",
     "output_type": "stream",
     "text": [
      "m_task\n",
      "m_task_all\n",
      "m_task_parse_input_table_view\n",
      "m_task_phy_input\n",
      "m_task_range_partition\n",
      "m_task_resource\n"
     ]
    }
   ],
   "source": [
    "tables = o.list_tables(prefix='m_task')\n",
    "for table in tables:\n",
    "    print table.name"
   ]
  },
  {
   "cell_type": "markdown",
   "metadata": {},
   "source": [
    "通过`get_table` 来获取表"
   ]
  },
  {
   "cell_type": "code",
   "execution_count": 94,
   "metadata": {},
   "outputs": [
    {
     "data": {
      "text/plain": [
       "odps.Schema {\n",
       "  project_name                  string      # project名称\n",
       "  name                          string      # odps task 名称\n",
       "  inst_id                       string      # odps instance id\n",
       "  job_name                      string      # odps job名称\n",
       "  type                          string      # SQL/MAPREDUCE/DT/GRAPH/XLIB...\n",
       "  status                        string      # 内容是个数字... 0:Ready,1:waiting,2:Running,3:Suspended,4:Failed,5:Terminated,6:Cancelled,7,8,9,10是内部状态等同于\n",
       "  Running, 11:Unknowned\n",
       "  job_owner_kp                  string      # job owner的kp，比如：1059741237754411\n",
       "  job_owner_name                string      # job owner的云账号名称\n",
       "  inst_owner_kp                 string      # instance owner的kp，比如：1059741237754411\n",
       "  inst_owner_name               string      # instance owner的云账号名称\n",
       "  executor_ip                   string      # 执行task的executor所在机器的ip\n",
       "  result                        string      # task的执行结果\n",
       "  start_time                    bigint      # task启动时间\n",
       "  end_time                      bigint      # task结束时间\n",
       "  cost_cpu                      double      # 一个odpsTask可以有多个fuxiJob,cost_cpu是所有fuxiJob cost_cpu的合计,单位为100*core*seconds\n",
       "  cost_mem                      double      # 一个odpsTask可以有多个fuxiJob,cost_mem是所有fuxiJob cost_mem的合计,单位为MB*seconds\n",
       "  fuxi_job_num                  bigint      # fuxi job的个数\n",
       "  fuxi_inst_num                 bigint      # fuxi instance的个数\n",
       "  jsonsummary_1                 string      # task运行结束时detail status中提供的json summary字段，由于ODPS表的单个cell最大字符串容量为8MB，超过8MB放在jsonsummary_2中\n",
       "  jsonsummary_2                 string      # jsonsummary_1中放不下的部分，使用jsonsummary时需判断本cell是否为NULL\n",
       "  source_xml                    string      # 敏感字段，包含用户的Query等信息\n",
       "  fuxi_cpu_cost                 double      # task cpu消耗.计算方式:fuxi_avg_cpu*seconds\n",
       "  fuxi_mem_cost                 double      # task mem消耗.计算方式:fuxi_avg_mem*seconds\n",
       "  signature                     string      # task signature\n",
       "  cost_gpu                      double      \n",
       "}\n",
       "Partitions {\n",
       "  ds                            string      # Snapshot的日期\n",
       "}"
      ]
     },
     "execution_count": 94,
     "metadata": {},
     "output_type": "execute_result"
    }
   ],
   "source": [
    "t = o.get_table('m_task')\n",
    "t.schema"
   ]
  },
  {
   "cell_type": "code",
   "execution_count": 95,
   "metadata": {},
   "outputs": [
    {
     "name": "stdout",
     "output_type": "stream",
     "text": [
      "True\n"
     ]
    }
   ],
   "source": [
    "print t.exist_partition('ds=20200210')"
   ]
  }
 ],
 "metadata": {
  "kernelspec": {
   "display_name": "Python 2",
   "language": "python",
   "name": "python2"
  },
  "language_info": {
   "codemirror_mode": {
    "name": "ipython",
    "version": 2
   },
   "file_extension": ".py",
   "mimetype": "text/x-python",
   "name": "python",
   "nbconvert_exporter": "python",
   "pygments_lexer": "ipython2",
   "version": "2.7.5"
  }
 },
 "nbformat": 4,
 "nbformat_minor": 2
}
